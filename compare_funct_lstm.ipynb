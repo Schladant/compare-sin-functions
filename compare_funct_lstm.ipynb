{
 "cells": [
  {
   "cell_type": "code",
   "execution_count": 55,
   "metadata": {},
   "outputs": [],
   "source": [
    "import numpy as np\n",
    "import tensorflow as tf\n",
    "from tensorflow import keras\n",
    "from tensorflow.keras import layers\n",
    "from tensorflow.keras.layers import Dropout\n",
    "import math\n",
    "import matplotlib.pyplot as plt\n",
    "from sklearn.metrics import mean_squared_error"
   ]
  },
  {
   "cell_type": "code",
   "execution_count": 78,
   "metadata": {},
   "outputs": [],
   "source": [
    "sin_wave = np.array([math.sin(x) for x in np.arange(2000)])"
   ]
  },
  {
   "cell_type": "code",
   "execution_count": 79,
   "metadata": {},
   "outputs": [],
   "source": [
    "sin5_wave = np.array([math.sin(5*x) for x in np.arange(2000)])"
   ]
  },
  {
   "cell_type": "code",
   "execution_count": 80,
   "metadata": {},
   "outputs": [],
   "source": [
    "X = []\n",
    "Y = []\n",
    "\n",
    "seq_len = 50\n",
    "num_records = len(sin_wave)-seq_len\n",
    "\n",
    "for i in range(num_records-50):\n",
    "    X.append(sin_wave[i:i+seq_len])\n",
    "    Y.append(np.array([1, 0]))\n",
    "    X.append(sin5_wave[i:i+seq_len])\n",
    "    Y.append(np.array([0, 1]))\n",
    "    \n",
    "X = np.array(X)\n",
    "X = np.expand_dims(X, axis=2)\n",
    "\n",
    "Y = np.array(Y)"
   ]
  },
  {
   "cell_type": "code",
   "execution_count": 81,
   "metadata": {
    "scrolled": true
   },
   "outputs": [
    {
     "data": {
      "text/plain": [
       "((3900, 50, 1), (3900, 2))"
      ]
     },
     "execution_count": 81,
     "metadata": {},
     "output_type": "execute_result"
    }
   ],
   "source": [
    "X.shape, Y.shape"
   ]
  },
  {
   "cell_type": "code",
   "execution_count": 82,
   "metadata": {},
   "outputs": [],
   "source": [
    "model = keras.Sequential()\n",
    "model.add(layers.LSTM(128, activation='tanh'))\n",
    "model.add(layers.Dense(1, activation='tanh'))\n",
    "model.add(layers.Dense(2, activation='sigmoid'))\n",
    "model.compile(optimizer='adam', loss='mse',\n",
    "             metrics=[tf.keras.metrics.MeanSquaredError()])"
   ]
  },
  {
   "cell_type": "code",
   "execution_count": 83,
   "metadata": {
    "scrolled": true
   },
   "outputs": [
    {
     "name": "stdout",
     "output_type": "stream",
     "text": [
      "Epoch 1/25\n",
      "122/122 [==============================] - 5s 41ms/step - loss: 0.2081 - mean_squared_error: 0.2081\n",
      "Epoch 2/25\n",
      "122/122 [==============================] - 5s 40ms/step - loss: 0.2536 - mean_squared_error: 0.2536\n",
      "Epoch 3/25\n",
      "122/122 [==============================] - 5s 40ms/step - loss: 0.2837 - mean_squared_error: 0.2837\n",
      "Epoch 4/25\n",
      "122/122 [==============================] - 5s 40ms/step - loss: 0.2731 - mean_squared_error: 0.2731\n",
      "Epoch 5/25\n",
      "122/122 [==============================] - 5s 40ms/step - loss: 0.2652 - mean_squared_error: 0.2652\n",
      "Epoch 6/25\n",
      "122/122 [==============================] - 5s 40ms/step - loss: 0.2496 - mean_squared_error: 0.2496\n",
      "Epoch 7/25\n",
      "122/122 [==============================] - 5s 41ms/step - loss: 0.2233 - mean_squared_error: 0.2233\n",
      "Epoch 8/25\n",
      "122/122 [==============================] - 5s 41ms/step - loss: 0.0850 - mean_squared_error: 0.0850\n",
      "Epoch 9/25\n",
      "122/122 [==============================] - 5s 40ms/step - loss: 0.0637 - mean_squared_error: 0.0637\n",
      "Epoch 10/25\n",
      "122/122 [==============================] - 5s 41ms/step - loss: 0.0510 - mean_squared_error: 0.0510\n",
      "Epoch 11/25\n",
      "122/122 [==============================] - 5s 40ms/step - loss: 0.0423 - mean_squared_error: 0.0423\n",
      "Epoch 12/25\n",
      "122/122 [==============================] - 5s 40ms/step - loss: 0.0358 - mean_squared_error: 0.0358\n",
      "Epoch 13/25\n",
      "122/122 [==============================] - 5s 41ms/step - loss: 0.0308 - mean_squared_error: 0.0308\n",
      "Epoch 14/25\n",
      "122/122 [==============================] - 5s 42ms/step - loss: 0.0268 - mean_squared_error: 0.0268\n",
      "Epoch 15/25\n",
      "122/122 [==============================] - 5s 40ms/step - loss: 0.0235 - mean_squared_error: 0.0235\n",
      "Epoch 16/25\n",
      "122/122 [==============================] - 5s 42ms/step - loss: 0.0208 - mean_squared_error: 0.0208\n",
      "Epoch 17/25\n",
      "122/122 [==============================] - 6s 46ms/step - loss: 0.0185 - mean_squared_error: 0.0185\n",
      "Epoch 18/25\n",
      "122/122 [==============================] - 5s 43ms/step - loss: 0.0166 - mean_squared_error: 0.0166\n",
      "Epoch 19/25\n",
      "122/122 [==============================] - 6s 46ms/step - loss: 0.0149 - mean_squared_error: 0.0149\n",
      "Epoch 20/25\n",
      "122/122 [==============================] - 5s 44ms/step - loss: 0.0134 - mean_squared_error: 0.0134\n",
      "Epoch 21/25\n",
      "122/122 [==============================] - 5s 44ms/step - loss: 0.0122 - mean_squared_error: 0.0122\n",
      "Epoch 22/25\n",
      "122/122 [==============================] - 5s 43ms/step - loss: 0.0111 - mean_squared_error: 0.0111\n",
      "Epoch 23/25\n",
      "122/122 [==============================] - 5s 41ms/step - loss: 0.0101 - mean_squared_error: 0.0101\n",
      "Epoch 24/25\n",
      "122/122 [==============================] - 5s 41ms/step - loss: 0.0092 - mean_squared_error: 0.0092\n",
      "Epoch 25/25\n",
      "122/122 [==============================] - 5s 42ms/step - loss: 0.0084 - mean_squared_error: 0.0084\n"
     ]
    }
   ],
   "source": [
    "history = model.fit(X, Y, epochs=25, verbose=1)"
   ]
  },
  {
   "cell_type": "code",
   "execution_count": 89,
   "metadata": {},
   "outputs": [],
   "source": [
    "X_val = []\n",
    "Y_val = []\n",
    "\n",
    "for i in range(num_records - 50, num_records):\n",
    "    X_val.append(sin_wave[i:i+seq_len])\n",
    "    Y_val.append(np.array([1, 0]))\n",
    "    X_val.append(sin5_wave[i:i+seq_len])\n",
    "    Y_val.append(np.array([0, 1]))\n",
    "    \n",
    "X_val = np.array(X_val)\n",
    "X_val = np.expand_dims(X_val, axis=2)\n",
    "\n",
    "Y_val = np.array(Y_val)"
   ]
  },
  {
   "cell_type": "code",
   "execution_count": 90,
   "metadata": {},
   "outputs": [
    {
     "name": "stdout",
     "output_type": "stream",
     "text": [
      "4/4 [==============================] - 0s 9ms/step\n"
     ]
    }
   ],
   "source": [
    "test_output = model.predict(X_val, verbose=1)"
   ]
  },
  {
   "cell_type": "code",
   "execution_count": 91,
   "metadata": {},
   "outputs": [
    {
     "data": {
      "text/plain": [
       "((100, 2), (100, 2))"
      ]
     },
     "execution_count": 91,
     "metadata": {},
     "output_type": "execute_result"
    }
   ],
   "source": [
    "test_output.shape, Y_val.shape"
   ]
  },
  {
   "cell_type": "code",
   "execution_count": 92,
   "metadata": {},
   "outputs": [
    {
     "name": "stdout",
     "output_type": "stream",
     "text": [
      "0.0076\n"
     ]
    }
   ],
   "source": [
    "MSE = round(mean_squared_error(Y_val[:, 0], test_output[:, 0]),4)\n",
    "print(MSE)"
   ]
  },
  {
   "cell_type": "code",
   "execution_count": 106,
   "metadata": {},
   "outputs": [],
   "source": [
    "test_input = X[489]"
   ]
  },
  {
   "cell_type": "code",
   "execution_count": 107,
   "metadata": {},
   "outputs": [
    {
     "data": {
      "text/plain": [
       "(50, 1)"
      ]
     },
     "execution_count": 107,
     "metadata": {},
     "output_type": "execute_result"
    }
   ],
   "source": [
    "test_input.shape"
   ]
  },
  {
   "cell_type": "code",
   "execution_count": 108,
   "metadata": {},
   "outputs": [],
   "source": [
    "test_input = np.expand_dims(test_input, axis=0)"
   ]
  },
  {
   "cell_type": "code",
   "execution_count": 109,
   "metadata": {},
   "outputs": [
    {
     "data": {
      "text/plain": [
       "(1, 50, 1)"
      ]
     },
     "execution_count": 109,
     "metadata": {},
     "output_type": "execute_result"
    }
   ],
   "source": [
    "test_input.shape"
   ]
  },
  {
   "cell_type": "code",
   "execution_count": 110,
   "metadata": {},
   "outputs": [],
   "source": [
    "test_output = model.predict(test_input)"
   ]
  },
  {
   "cell_type": "code",
   "execution_count": 111,
   "metadata": {},
   "outputs": [
    {
     "name": "stdout",
     "output_type": "stream",
     "text": [
      "[[0.08729389 0.9075111 ]] [0 1]\n"
     ]
    }
   ],
   "source": [
    "print(test_output, Y[489])"
   ]
  },
  {
   "cell_type": "code",
   "execution_count": 118,
   "metadata": {},
   "outputs": [],
   "source": [
    "test_input = np.array([[ 0.84147098],\n",
    " [ 0.90929743],\n",
    " [ 0.14112001],\n",
    " [-0.7568025 ],\n",
    " [-0.95892427],\n",
    " [-0.2794155 ],\n",
    " [ 0.6569866 ],\n",
    " [ 0.98935825],\n",
    " [ 0.41211849],\n",
    " [-0.54402111],\n",
    " [-0.99999021],\n",
    " [-0.53657292],\n",
    " [ 0.42016704],\n",
    " [ 0.99060736],\n",
    " [ 0.65028784],\n",
    " [-0.28790332],\n",
    " [-0.96139749]])"
   ]
  },
  {
   "cell_type": "code",
   "execution_count": 119,
   "metadata": {},
   "outputs": [
    {
     "data": {
      "text/plain": [
       "(17, 1)"
      ]
     },
     "execution_count": 119,
     "metadata": {},
     "output_type": "execute_result"
    }
   ],
   "source": [
    "test_input.shape"
   ]
  },
  {
   "cell_type": "code",
   "execution_count": 120,
   "metadata": {},
   "outputs": [],
   "source": [
    "test_input = np.expand_dims(test_input, axis=0)"
   ]
  },
  {
   "cell_type": "code",
   "execution_count": 121,
   "metadata": {},
   "outputs": [
    {
     "data": {
      "text/plain": [
       "(1, 17, 1)"
      ]
     },
     "execution_count": 121,
     "metadata": {},
     "output_type": "execute_result"
    }
   ],
   "source": [
    "test_input.shape"
   ]
  },
  {
   "cell_type": "code",
   "execution_count": 122,
   "metadata": {},
   "outputs": [],
   "source": [
    "test_output = model.predict(test_input)"
   ]
  },
  {
   "cell_type": "code",
   "execution_count": 123,
   "metadata": {},
   "outputs": [
    {
     "name": "stdout",
     "output_type": "stream",
     "text": [
      "[[0.7616589  0.24445492]] [1 0]\n"
     ]
    }
   ],
   "source": [
    "print(test_output, Y[0])"
   ]
  },
  {
   "cell_type": "code",
   "execution_count": null,
   "metadata": {},
   "outputs": [],
   "source": []
  }
 ],
 "metadata": {
  "kernelspec": {
   "display_name": "Python 3",
   "language": "python",
   "name": "python3"
  },
  "language_info": {
   "codemirror_mode": {
    "name": "ipython",
    "version": 3
   },
   "file_extension": ".py",
   "mimetype": "text/x-python",
   "name": "python",
   "nbconvert_exporter": "python",
   "pygments_lexer": "ipython3",
   "version": "3.8.3"
  }
 },
 "nbformat": 4,
 "nbformat_minor": 4
}
